{
  "nbformat": 4,
  "nbformat_minor": 0,
  "metadata": {
    "colab": {
      "provenance": [],
      "toc_visible": true
    },
    "kernelspec": {
      "name": "python3",
      "display_name": "Python 3"
    },
    "language_info": {
      "name": "python"
    }
  },
  "cells": [
    {
      "cell_type": "markdown",
      "source": [
        "Week 1"
      ],
      "metadata": {
        "id": "jm5Xcg1Ly6Kf"
      }
    },
    {
      "cell_type": "markdown",
      "source": [
        "Day 1. 06/02 Setting up notebook environment"
      ],
      "metadata": {
        "id": "l0-4_kMQnFeW"
      }
    },
    {
      "cell_type": "code",
      "execution_count": null,
      "metadata": {
        "id": "xdoNp-QZMxOi",
        "colab": {
          "base_uri": "https://localhost:8080/"
        },
        "outputId": "4a33e189-deaa-4041-8d35-8959506255d8"
      },
      "outputs": [
        {
          "output_type": "stream",
          "name": "stdout",
          "text": [
            "Collecting pymysql\n",
            "  Downloading PyMySQL-1.1.0-py3-none-any.whl (44 kB)\n",
            "\u001b[2K     \u001b[90m━━━━━━━━━━━━━━━━━━━━━━━━━━━━━━━━━━━━━━━━\u001b[0m \u001b[32m44.8/44.8 kB\u001b[0m \u001b[31m681.9 kB/s\u001b[0m eta \u001b[36m0:00:00\u001b[0m\n",
            "\u001b[?25hInstalling collected packages: pymysql\n",
            "Successfully installed pymysql-1.1.0\n"
          ]
        }
      ],
      "source": [
        "!pip install pymysql"
      ]
    },
    {
      "cell_type": "code",
      "source": [
        "%load_ext sql"
      ],
      "metadata": {
        "colab": {
          "base_uri": "https://localhost:8080/"
        },
        "id": "zLT8bv4nmYvB",
        "outputId": "bd01c2a1-1e9f-498d-f98c-fd9ca7cb4720"
      },
      "execution_count": null,
      "outputs": [
        {
          "output_type": "stream",
          "name": "stdout",
          "text": [
            "The sql extension is already loaded. To reload it, use:\n",
            "  %reload_ext sql\n"
          ]
        }
      ]
    },
    {
      "cell_type": "code",
      "source": [
        "%sql sqlite:///chinook.db"
      ],
      "metadata": {
        "id": "dSdgqnOKmllh"
      },
      "execution_count": null,
      "outputs": []
    },
    {
      "cell_type": "code",
      "source": [
        "%sql SELECT * FROM EMPLOYEES"
      ],
      "metadata": {
        "colab": {
          "base_uri": "https://localhost:8080/",
          "height": 683
        },
        "id": "sx1RoA3_m9sx",
        "outputId": "a0484ea4-1333-4290-be39-95c7929e9207"
      },
      "execution_count": null,
      "outputs": [
        {
          "output_type": "stream",
          "name": "stdout",
          "text": [
            " * sqlite:///chinook.db\n",
            "Done.\n"
          ]
        },
        {
          "output_type": "execute_result",
          "data": {
            "text/plain": [
              "[(1, 'Adams', 'Andrew', 'General Manager', None, '1962-02-18 00:00:00', '2002-08-14 00:00:00', '11120 Jasper Ave NW', 'Edmonton', 'AB', 'Canada', 'T5K 2N1', '+1 (780) 428-9482', '+1 (780) 428-3457', 'andrew@chinookcorp.com'),\n",
              " (2, 'Edwards', 'Nancy', 'Sales Manager', 1, '1958-12-08 00:00:00', '2002-05-01 00:00:00', '825 8 Ave SW', 'Calgary', 'AB', 'Canada', 'T2P 2T3', '+1 (403) 262-3443', '+1 (403) 262-3322', 'nancy@chinookcorp.com'),\n",
              " (3, 'Peacock', 'Jane', 'Sales Support Agent', 2, '1973-08-29 00:00:00', '2002-04-01 00:00:00', '1111 6 Ave SW', 'Calgary', 'AB', 'Canada', 'T2P 5M5', '+1 (403) 262-3443', '+1 (403) 262-6712', 'jane@chinookcorp.com'),\n",
              " (4, 'Park', 'Margaret', 'Sales Support Agent', 2, '1947-09-19 00:00:00', '2003-05-03 00:00:00', '683 10 Street SW', 'Calgary', 'AB', 'Canada', 'T2P 5G3', '+1 (403) 263-4423', '+1 (403) 263-4289', 'margaret@chinookcorp.com'),\n",
              " (5, 'Johnson', 'Steve', 'Sales Support Agent', 2, '1965-03-03 00:00:00', '2003-10-17 00:00:00', '7727B 41 Ave', 'Calgary', 'AB', 'Canada', 'T3B 1Y7', '1 (780) 836-9987', '1 (780) 836-9543', 'steve@chinookcorp.com'),\n",
              " (6, 'Mitchell', 'Michael', 'IT Manager', 1, '1973-07-01 00:00:00', '2003-10-17 00:00:00', '5827 Bowness Road NW', 'Calgary', 'AB', 'Canada', 'T3B 0C5', '+1 (403) 246-9887', '+1 (403) 246-9899', 'michael@chinookcorp.com'),\n",
              " (7, 'King', 'Robert', 'IT Staff', 6, '1970-05-29 00:00:00', '2004-01-02 00:00:00', '590 Columbia Boulevard West', 'Lethbridge', 'AB', 'Canada', 'T1K 5N8', '+1 (403) 456-9986', '+1 (403) 456-8485', 'robert@chinookcorp.com'),\n",
              " (8, 'Callahan', 'Laura', 'IT Staff', 6, '1968-01-09 00:00:00', '2004-03-04 00:00:00', '923 7 ST NW', 'Lethbridge', 'AB', 'Canada', 'T1H 1Y8', '+1 (403) 467-3351', '+1 (403) 467-8772', 'laura@chinookcorp.com')]"
            ],
            "text/html": [
              "<table>\n",
              "    <thead>\n",
              "        <tr>\n",
              "            <th>EmployeeId</th>\n",
              "            <th>LastName</th>\n",
              "            <th>FirstName</th>\n",
              "            <th>Title</th>\n",
              "            <th>ReportsTo</th>\n",
              "            <th>BirthDate</th>\n",
              "            <th>HireDate</th>\n",
              "            <th>Address</th>\n",
              "            <th>City</th>\n",
              "            <th>State</th>\n",
              "            <th>Country</th>\n",
              "            <th>PostalCode</th>\n",
              "            <th>Phone</th>\n",
              "            <th>Fax</th>\n",
              "            <th>Email</th>\n",
              "        </tr>\n",
              "    </thead>\n",
              "    <tbody>\n",
              "        <tr>\n",
              "            <td>1</td>\n",
              "            <td>Adams</td>\n",
              "            <td>Andrew</td>\n",
              "            <td>General Manager</td>\n",
              "            <td>None</td>\n",
              "            <td>1962-02-18 00:00:00</td>\n",
              "            <td>2002-08-14 00:00:00</td>\n",
              "            <td>11120 Jasper Ave NW</td>\n",
              "            <td>Edmonton</td>\n",
              "            <td>AB</td>\n",
              "            <td>Canada</td>\n",
              "            <td>T5K 2N1</td>\n",
              "            <td>+1 (780) 428-9482</td>\n",
              "            <td>+1 (780) 428-3457</td>\n",
              "            <td>andrew@chinookcorp.com</td>\n",
              "        </tr>\n",
              "        <tr>\n",
              "            <td>2</td>\n",
              "            <td>Edwards</td>\n",
              "            <td>Nancy</td>\n",
              "            <td>Sales Manager</td>\n",
              "            <td>1</td>\n",
              "            <td>1958-12-08 00:00:00</td>\n",
              "            <td>2002-05-01 00:00:00</td>\n",
              "            <td>825 8 Ave SW</td>\n",
              "            <td>Calgary</td>\n",
              "            <td>AB</td>\n",
              "            <td>Canada</td>\n",
              "            <td>T2P 2T3</td>\n",
              "            <td>+1 (403) 262-3443</td>\n",
              "            <td>+1 (403) 262-3322</td>\n",
              "            <td>nancy@chinookcorp.com</td>\n",
              "        </tr>\n",
              "        <tr>\n",
              "            <td>3</td>\n",
              "            <td>Peacock</td>\n",
              "            <td>Jane</td>\n",
              "            <td>Sales Support Agent</td>\n",
              "            <td>2</td>\n",
              "            <td>1973-08-29 00:00:00</td>\n",
              "            <td>2002-04-01 00:00:00</td>\n",
              "            <td>1111 6 Ave SW</td>\n",
              "            <td>Calgary</td>\n",
              "            <td>AB</td>\n",
              "            <td>Canada</td>\n",
              "            <td>T2P 5M5</td>\n",
              "            <td>+1 (403) 262-3443</td>\n",
              "            <td>+1 (403) 262-6712</td>\n",
              "            <td>jane@chinookcorp.com</td>\n",
              "        </tr>\n",
              "        <tr>\n",
              "            <td>4</td>\n",
              "            <td>Park</td>\n",
              "            <td>Margaret</td>\n",
              "            <td>Sales Support Agent</td>\n",
              "            <td>2</td>\n",
              "            <td>1947-09-19 00:00:00</td>\n",
              "            <td>2003-05-03 00:00:00</td>\n",
              "            <td>683 10 Street SW</td>\n",
              "            <td>Calgary</td>\n",
              "            <td>AB</td>\n",
              "            <td>Canada</td>\n",
              "            <td>T2P 5G3</td>\n",
              "            <td>+1 (403) 263-4423</td>\n",
              "            <td>+1 (403) 263-4289</td>\n",
              "            <td>margaret@chinookcorp.com</td>\n",
              "        </tr>\n",
              "        <tr>\n",
              "            <td>5</td>\n",
              "            <td>Johnson</td>\n",
              "            <td>Steve</td>\n",
              "            <td>Sales Support Agent</td>\n",
              "            <td>2</td>\n",
              "            <td>1965-03-03 00:00:00</td>\n",
              "            <td>2003-10-17 00:00:00</td>\n",
              "            <td>7727B 41 Ave</td>\n",
              "            <td>Calgary</td>\n",
              "            <td>AB</td>\n",
              "            <td>Canada</td>\n",
              "            <td>T3B 1Y7</td>\n",
              "            <td>1 (780) 836-9987</td>\n",
              "            <td>1 (780) 836-9543</td>\n",
              "            <td>steve@chinookcorp.com</td>\n",
              "        </tr>\n",
              "        <tr>\n",
              "            <td>6</td>\n",
              "            <td>Mitchell</td>\n",
              "            <td>Michael</td>\n",
              "            <td>IT Manager</td>\n",
              "            <td>1</td>\n",
              "            <td>1973-07-01 00:00:00</td>\n",
              "            <td>2003-10-17 00:00:00</td>\n",
              "            <td>5827 Bowness Road NW</td>\n",
              "            <td>Calgary</td>\n",
              "            <td>AB</td>\n",
              "            <td>Canada</td>\n",
              "            <td>T3B 0C5</td>\n",
              "            <td>+1 (403) 246-9887</td>\n",
              "            <td>+1 (403) 246-9899</td>\n",
              "            <td>michael@chinookcorp.com</td>\n",
              "        </tr>\n",
              "        <tr>\n",
              "            <td>7</td>\n",
              "            <td>King</td>\n",
              "            <td>Robert</td>\n",
              "            <td>IT Staff</td>\n",
              "            <td>6</td>\n",
              "            <td>1970-05-29 00:00:00</td>\n",
              "            <td>2004-01-02 00:00:00</td>\n",
              "            <td>590 Columbia Boulevard West</td>\n",
              "            <td>Lethbridge</td>\n",
              "            <td>AB</td>\n",
              "            <td>Canada</td>\n",
              "            <td>T1K 5N8</td>\n",
              "            <td>+1 (403) 456-9986</td>\n",
              "            <td>+1 (403) 456-8485</td>\n",
              "            <td>robert@chinookcorp.com</td>\n",
              "        </tr>\n",
              "        <tr>\n",
              "            <td>8</td>\n",
              "            <td>Callahan</td>\n",
              "            <td>Laura</td>\n",
              "            <td>IT Staff</td>\n",
              "            <td>6</td>\n",
              "            <td>1968-01-09 00:00:00</td>\n",
              "            <td>2004-03-04 00:00:00</td>\n",
              "            <td>923 7 ST NW</td>\n",
              "            <td>Lethbridge</td>\n",
              "            <td>AB</td>\n",
              "            <td>Canada</td>\n",
              "            <td>T1H 1Y8</td>\n",
              "            <td>+1 (403) 467-3351</td>\n",
              "            <td>+1 (403) 467-8772</td>\n",
              "            <td>laura@chinookcorp.com</td>\n",
              "        </tr>\n",
              "    </tbody>\n",
              "</table>"
            ]
          },
          "metadata": {},
          "execution_count": 7
        }
      ]
    },
    {
      "cell_type": "markdown",
      "source": [
        "# New Section"
      ],
      "metadata": {
        "id": "BMTJiXRrhL-J"
      }
    },
    {
      "cell_type": "markdown",
      "source": [
        "07/02 Working on tables"
      ],
      "metadata": {
        "id": "KMl2LWzizy4H"
      }
    }
  ]
}